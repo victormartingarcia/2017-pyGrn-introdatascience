{
 "cells": [
  {
   "cell_type": "markdown",
   "metadata": {
    "collapsed": true,
    "slideshow": {
     "slide_type": "slide"
    }
   },
   "source": [
    "<CENTER>\n",
    "<img src=\"https://secure.meetupstatic.com/photos/theme_head/d/9/1/7/full_7435575.jpeg\" width=\"100%\">\n",
    "\n",
    "  <header>\n",
    "    <h1>Python Data Science</h1>\n",
    "    <h3>18 Octubre 2017</h3>\n",
    "    <h2>@victormartin</h2>\n",
    "    <p></p>\n",
    "  </header>\n",
    "</CENTER>"
   ]
  },
  {
   "cell_type": "code",
   "execution_count": 87,
   "metadata": {
    "collapsed": true,
    "slideshow": {
     "slide_type": "skip"
    }
   },
   "outputs": [],
   "source": [
    "%matplotlib inline\n",
    "\n",
    "import pandas as pd\n",
    "import numpy as np\n",
    "\n",
    "import os\n",
    "from datetime import datetime\n",
    "\n",
    "import matplotlib.pyplot as plt\n",
    "import matplotlib.pylab as pylab\n",
    "\n",
    "pylab.rcParams['figure.figsize'] = (16, 6)\n",
    "\n",
    "import seaborn as sns\n",
    "\n",
    "sns.set_context(\"notebook\", font_scale=1.4)\n",
    "sns.set_style(\"whitegrid\")\n",
    "\n",
    "import warnings\n",
    "warnings.filterwarnings('ignore')"
   ]
  },
  {
   "cell_type": "markdown",
   "metadata": {
    "slideshow": {
     "slide_type": "slide"
    }
   },
   "source": [
    "\n",
    "# Contingut d'aquesta xerrada\n",
    "\n",
    "- Data Science i Machine Learning\n",
    "- Per què Python?\n",
    "- Kaggle.com - Plataforma de competicions de data science\n",
    "- Titanic - Getting Started competition\n",
    "\n",
    "\n",
    "Per veure aquest notebook en format de presentació (Reveal.js):\n",
    "\n",
    "```\n",
    "$jupyter nbconvert datascience_introduction.ipynb --to slides --post serve\n",
    "```"
   ]
  },
  {
   "cell_type": "markdown",
   "metadata": {
    "slideshow": {
     "slide_type": "slide"
    }
   },
   "source": [
    "# Què vol dir *data science*?\n",
    "\n",
    "> *Anàlisis de dades aplicant mètodes científics per tal d'extraure coneixement*\n",
    ">\n",
    "> [Definició de Wikipedia](https://en.wikipedia.org/wiki/Data_science])\n"
   ]
  },
  {
   "cell_type": "markdown",
   "metadata": {
    "slideshow": {
     "slide_type": "fragment"
    }
   },
   "source": [
    "Del reconeixement de patrons ha evolucionat cap al *machine learning* -> algorismes d'aprenentatge"
   ]
  },
  {
   "cell_type": "markdown",
   "metadata": {
    "slideshow": {
     "slide_type": "subslide"
    }
   },
   "source": [
    "# Què vol dir *machine learning*?\n",
    "\n",
    "> *Camp d'estudi que dona a les computadores la habilitat d'aprendre sense haber estat explícitament programades*\n",
    ">\n",
    "> Arthur Samuel - 1959"
   ]
  },
  {
   "cell_type": "markdown",
   "metadata": {
    "slideshow": {
     "slide_type": "subslide"
    }
   },
   "source": [
    "# Diferents tipus de algoritmes de aprenentatge\n",
    "\n",
    "- **[Supervised learning](https://en.wikipedia.org/wiki/Supervised_learning)**\n",
    "- [Unsupervised learning](https://en.wikipedia.org/wiki/Unsupervised_learning)\n",
    "- [Reinforcement learning](https://en.wikipedia.org/wiki/Reinforcement_learning)\n",
    "- [Recommender systems](https://en.wikipedia.org/wiki/Recommender_system)\n",
    "- (...)\n",
    "\n",
    "## <font color=\"FireBrick \">Mega-links:</font>\n",
    "\n",
    "- Curs [Introduction to Machine Learning](https://www.coursera.org/learn/machine-learning) de Andrew Ng a Coursera - Aquí **[un bon resum/apunts](http://www.holehouse.org/mlclass/)** pels més mandrosos ;)\n"
   ]
  },
  {
   "cell_type": "markdown",
   "metadata": {
    "slideshow": {
     "slide_type": "subslide"
    }
   },
   "source": [
    "# Aprenentatge supervisat\n",
    "\n",
    "- Proveïr a un algorisme d'aprenentatge (**learning algorithm**) dades d'entrenament de les quals pugui aprendre."
   ]
  },
  {
   "cell_type": "markdown",
   "metadata": {
    "slideshow": {
     "slide_type": "fragment"
    }
   },
   "source": [
    "- El **training data** està format per una sèrie d'atributs (**features**), i una columna amb la resposta correcte, la qual anomenem **target** (o **label**)"
   ]
  },
  {
   "cell_type": "markdown",
   "metadata": {
    "slideshow": {
     "slide_type": "fragment"
    }
   },
   "source": [
    "- Durant la fase de **training** el *learning algorithm* troba patrons sobre el *training data* que \"mapejen\" els *features* al *target* (resposta que volem predir). Retorna un **model** que captura aquests patrons."
   ]
  },
  {
   "cell_type": "markdown",
   "metadata": {
    "slideshow": {
     "slide_type": "fragment"
    }
   },
   "source": [
    "- Per últim podem fer servir aquest *model* per fer prediccions amb dades que no sabem el *target*."
   ]
  },
  {
   "cell_type": "markdown",
   "metadata": {
    "slideshow": {
     "slide_type": "subslide"
    }
   },
   "source": [
    "### Exemple de ML: Predicció de preu de venda de pisos"
   ]
  },
  {
   "cell_type": "code",
   "execution_count": 88,
   "metadata": {
    "slideshow": {
     "slide_type": "-"
    }
   },
   "outputs": [
    {
     "data": {
      "text/html": [
       "<div>\n",
       "<style>\n",
       "    .dataframe thead tr:only-child th {\n",
       "        text-align: right;\n",
       "    }\n",
       "\n",
       "    .dataframe thead th {\n",
       "        text-align: left;\n",
       "    }\n",
       "\n",
       "    .dataframe tbody tr th {\n",
       "        vertical-align: top;\n",
       "    }\n",
       "</style>\n",
       "<table border=\"1\" class=\"dataframe\">\n",
       "  <thead>\n",
       "    <tr style=\"text-align: right;\">\n",
       "      <th></th>\n",
       "      <th>Barri</th>\n",
       "      <th>Superfície (m2)</th>\n",
       "      <th>Num banys</th>\n",
       "      <th>Terrassa (m2)</th>\n",
       "      <th>Plaçes Parking</th>\n",
       "      <th>Preu (€)</th>\n",
       "    </tr>\n",
       "  </thead>\n",
       "  <tbody>\n",
       "    <tr>\n",
       "      <th>0</th>\n",
       "      <td>Font de la Pólvora</td>\n",
       "      <td>50</td>\n",
       "      <td>1</td>\n",
       "      <td>0</td>\n",
       "      <td>0</td>\n",
       "      <td>50000</td>\n",
       "    </tr>\n",
       "    <tr>\n",
       "      <th>1</th>\n",
       "      <td>Taialà</td>\n",
       "      <td>70</td>\n",
       "      <td>1</td>\n",
       "      <td>0</td>\n",
       "      <td>0</td>\n",
       "      <td>75000</td>\n",
       "    </tr>\n",
       "    <tr>\n",
       "      <th>2</th>\n",
       "      <td>Eixample</td>\n",
       "      <td>100</td>\n",
       "      <td>2</td>\n",
       "      <td>4</td>\n",
       "      <td>1</td>\n",
       "      <td>190000</td>\n",
       "    </tr>\n",
       "    <tr>\n",
       "      <th>3</th>\n",
       "      <td>Barri Vell</td>\n",
       "      <td>130</td>\n",
       "      <td>2</td>\n",
       "      <td>8</td>\n",
       "      <td>0</td>\n",
       "      <td>280000</td>\n",
       "    </tr>\n",
       "    <tr>\n",
       "      <th>4</th>\n",
       "      <td>Palau</td>\n",
       "      <td>200</td>\n",
       "      <td>4</td>\n",
       "      <td>40</td>\n",
       "      <td>2</td>\n",
       "      <td>350000</td>\n",
       "    </tr>\n",
       "  </tbody>\n",
       "</table>\n",
       "</div>"
      ],
      "text/plain": [
       "                Barri  Superfície (m2)  Num banys  Terrassa (m2)  \\\n",
       "0  Font de la Pólvora               50          1              0   \n",
       "1              Taialà               70          1              0   \n",
       "2            Eixample              100          2              4   \n",
       "3          Barri Vell              130          2              8   \n",
       "4               Palau              200          4             40   \n",
       "\n",
       "   Plaçes Parking  Preu (€)  \n",
       "0               0     50000  \n",
       "1               0     75000  \n",
       "2               1    190000  \n",
       "3               0    280000  \n",
       "4               2    350000  "
      ]
     },
     "execution_count": 88,
     "metadata": {},
     "output_type": "execute_result"
    }
   ],
   "source": [
    "# TRAINING SET\n",
    "dades = {\n",
    "    u'Superfície (m2)': [50,70,100,130,200],\n",
    "    u'Terrassa (m2)': [0,0,4,8,40],\n",
    "    u'Num banys': [1,1,2,2,4],\n",
    "    u'Plaçes Parking': [0,0,1,0,2],\n",
    "    u'Barri': [\"Font de la Pólvora\",\"Taialà\",\"Eixample\",\"Barri Vell\",\"Palau\"],\n",
    "    u'Preu (€)': [50000,75000,190000,280000,350000],\n",
    "}\n",
    "pd.DataFrame(dades).reindex(columns=[u\"Barri\", u\"Superfície (m2)\",u\"Num banys\",\n",
    "                                     u\"Terrassa (m2)\",u\"Plaçes Parking\",u\"Preu (€)\"])"
   ]
  },
  {
   "cell_type": "markdown",
   "metadata": {
    "slideshow": {
     "slide_type": "-"
    }
   },
   "source": [
    "** <small>Bon moment per recuperar els slides <a href=\"https://github.com/victormartingarcia/2017-pyGrn-intropandas\" target=\"_blank\">\"Intro to Pandas\"</a> :)</small>"
   ]
  },
  {
   "cell_type": "code",
   "execution_count": 89,
   "metadata": {
    "slideshow": {
     "slide_type": "subslide"
    }
   },
   "outputs": [
    {
     "data": {
      "text/html": [
       "<div>\n",
       "<style>\n",
       "    .dataframe thead tr:only-child th {\n",
       "        text-align: right;\n",
       "    }\n",
       "\n",
       "    .dataframe thead th {\n",
       "        text-align: left;\n",
       "    }\n",
       "\n",
       "    .dataframe tbody tr th {\n",
       "        vertical-align: top;\n",
       "    }\n",
       "</style>\n",
       "<table border=\"1\" class=\"dataframe\">\n",
       "  <thead>\n",
       "    <tr style=\"text-align: right;\">\n",
       "      <th></th>\n",
       "      <th>Barri</th>\n",
       "      <th>Superfície (m2)</th>\n",
       "      <th>Num banys</th>\n",
       "      <th>Terrassa (m2)</th>\n",
       "      <th>Plaçes Parking</th>\n",
       "      <th>Preu (€)</th>\n",
       "    </tr>\n",
       "  </thead>\n",
       "  <tbody>\n",
       "    <tr>\n",
       "      <th>0</th>\n",
       "      <td>Taialà</td>\n",
       "      <td>90</td>\n",
       "      <td>1</td>\n",
       "      <td>0</td>\n",
       "      <td>0</td>\n",
       "      <td>???</td>\n",
       "    </tr>\n",
       "    <tr>\n",
       "      <th>1</th>\n",
       "      <td>Palau</td>\n",
       "      <td>120</td>\n",
       "      <td>2</td>\n",
       "      <td>6</td>\n",
       "      <td>1</td>\n",
       "      <td>???</td>\n",
       "    </tr>\n",
       "  </tbody>\n",
       "</table>\n",
       "</div>"
      ],
      "text/plain": [
       "    Barri  Superfície (m2)  Num banys  Terrassa (m2)  Plaçes Parking Preu (€)\n",
       "0  Taialà               90          1              0               0      ???\n",
       "1   Palau              120          2              6               1      ???"
      ]
     },
     "execution_count": 89,
     "metadata": {},
     "output_type": "execute_result"
    }
   ],
   "source": [
    "# PREDICCIONS\n",
    "dades = {\n",
    "    u'Superfície (m2)': [90,120],\n",
    "    u'Terrassa (m2)': [0,6],\n",
    "    u'Num banys': [1,2],\n",
    "    u'Plaçes Parking': [0,1],\n",
    "    u'Barri': [\"Taialà\",\"Palau\"],\n",
    "    u'Preu (€)': [\"???\",\"???\"],\n",
    "}\n",
    "pd.DataFrame(dades).reindex(columns=[u\"Barri\", u\"Superfície (m2)\",u\"Num banys\",\n",
    "                                     u\"Terrassa (m2)\",u\"Plaçes Parking\",u\"Preu (€)\"])"
   ]
  },
  {
   "cell_type": "markdown",
   "metadata": {
    "slideshow": {
     "slide_type": "subslide"
    }
   },
   "source": [
    "## Exemple visual ML"
   ]
  },
  {
   "cell_type": "code",
   "execution_count": 90,
   "metadata": {
    "slideshow": {
     "slide_type": "-"
    }
   },
   "outputs": [
    {
     "data": {
      "text/html": [
       "<div>\n",
       "<style>\n",
       "    .dataframe thead tr:only-child th {\n",
       "        text-align: right;\n",
       "    }\n",
       "\n",
       "    .dataframe thead th {\n",
       "        text-align: left;\n",
       "    }\n",
       "\n",
       "    .dataframe tbody tr th {\n",
       "        vertical-align: top;\n",
       "    }\n",
       "</style>\n",
       "<table border=\"1\" class=\"dataframe\">\n",
       "  <thead>\n",
       "    <tr style=\"text-align: right;\">\n",
       "      <th></th>\n",
       "      <th>Superfície (m2)</th>\n",
       "      <th>Preu (€)</th>\n",
       "    </tr>\n",
       "  </thead>\n",
       "  <tbody>\n",
       "    <tr>\n",
       "      <th>0</th>\n",
       "      <td>50</td>\n",
       "      <td>50000</td>\n",
       "    </tr>\n",
       "    <tr>\n",
       "      <th>1</th>\n",
       "      <td>70</td>\n",
       "      <td>55000</td>\n",
       "    </tr>\n",
       "    <tr>\n",
       "      <th>2</th>\n",
       "      <td>100</td>\n",
       "      <td>190000</td>\n",
       "    </tr>\n",
       "    <tr>\n",
       "      <th>3</th>\n",
       "      <td>130</td>\n",
       "      <td>220000</td>\n",
       "    </tr>\n",
       "    <tr>\n",
       "      <th>4</th>\n",
       "      <td>200</td>\n",
       "      <td>300000</td>\n",
       "    </tr>\n",
       "  </tbody>\n",
       "</table>\n",
       "</div>"
      ],
      "text/plain": [
       "   Superfície (m2)  Preu (€)\n",
       "0               50     50000\n",
       "1               70     55000\n",
       "2              100    190000\n",
       "3              130    220000\n",
       "4              200    300000"
      ]
     },
     "execution_count": 90,
     "metadata": {},
     "output_type": "execute_result"
    }
   ],
   "source": [
    "dades = {\n",
    "    u'Superfície (m2)': [50,70,100,130,200],\n",
    "    u'Preu (€)': [50000,55000,190000,220000,300000],\n",
    "}\n",
    "df_training = pd.DataFrame(dades)\n",
    "df_training.reindex(columns= [u\"Superfície (m2)\",u\"Preu (€)\"])"
   ]
  },
  {
   "cell_type": "code",
   "execution_count": 91,
   "metadata": {
    "scrolled": false,
    "slideshow": {
     "slide_type": "subslide"
    }
   },
   "outputs": [
    {
     "data": {
      "image/png": "[encoded data removed]",
      "text/plain": [
       "<matplotlib.figure.Figure at 0x1196fc710>"
      ]
     },
     "metadata": {},
     "output_type": "display_data"
    }
   ],
   "source": [
    "# Dibuixem les dades d'entrenament\n",
    "sns.lmplot(x=u'Superfície (m2)', y=u'Preu (€)',\n",
    "           data=df_training, # Data source\n",
    "           fit_reg=False, # Don't fix a regression line\n",
    "           size=6, aspect=2,\n",
    "           scatter_kws={\"s\": 250} ).set(xticks=np.arange(50,201,10));"
   ]
  },
  {
   "cell_type": "markdown",
   "metadata": {
    "slideshow": {
     "slide_type": "fragment"
    }
   },
   "source": [
    "**Quant puc demanar per un pis de 90m2?**"
   ]
  },
  {
   "cell_type": "code",
   "execution_count": 92,
   "metadata": {
    "slideshow": {
     "slide_type": "subslide"
    }
   },
   "outputs": [
    {
     "data": {
      "image/png": "[encoded data removed]",
      "text/plain": [
       "<matplotlib.figure.Figure at 0x113e687d0>"
      ]
     },
     "metadata": {},
     "output_type": "display_data"
    }
   ],
   "source": [
    "# Dibuixem les dades d'entrenament -> REGRESSIÓ LINEAL\n",
    "sns.lmplot(x=u'Superfície (m2)', y=u'Preu (€)',\n",
    "           data=df_training, # Data source\n",
    "           fit_reg=True, # Fix a regression line\n",
    "           ci=0, size=6, aspect=2, scatter_kws={\"s\": 250}\n",
    ").set(xticks=np.arange(50,201,10));"
   ]
  },
  {
   "cell_type": "markdown",
   "metadata": {
    "slideshow": {
     "slide_type": "fragment"
    }
   },
   "source": [
    "**Segons aquest model, per un pis de 90m2 puc demanar 130 000€**"
   ]
  },
  {
   "cell_type": "code",
   "execution_count": 93,
   "metadata": {
    "slideshow": {
     "slide_type": "subslide"
    }
   },
   "outputs": [
    {
     "data": {
      "image/png": "[encoded data removed]",
      "text/plain": [
       "<matplotlib.figure.Figure at 0x112f4cf90>"
      ]
     },
     "metadata": {},
     "output_type": "display_data"
    }
   ],
   "source": [
    "# Dibuixem les dades d'entrenament -> Un altre algorisme predictiu\n",
    "sns.lmplot(x=u'Superfície (m2)', y=u'Preu (€)',\n",
    "           data=df_training, # Data source\n",
    "           lowess=True, # Fix a logistic line\n",
    "           ci=0, size=6, aspect=2,\n",
    "           scatter_kws={\"s\": 250}).set(xticks=np.arange(50,201,10));"
   ]
  },
  {
   "cell_type": "markdown",
   "metadata": {
    "slideshow": {
     "slide_type": "fragment"
    }
   },
   "source": [
    "**WTF!!** Segons aquest altre model, per un pis de 90m2 puc demanar 150 000€ ( 20k € més!). Quin és el bò?"
   ]
  },
  {
   "cell_type": "markdown",
   "metadata": {
    "slideshow": {
     "slide_type": "subslide"
    }
   },
   "source": [
    "# Objectiu: Crear un model que *generalitzi*\n",
    "\n",
    "Per *generalització* entenem que el model s'ajusti a TOTES les dades Out-sample, no només a les dades in-sample del training set."
   ]
  },
  {
   "cell_type": "markdown",
   "metadata": {
    "slideshow": {
     "slide_type": "fragment"
    }
   },
   "source": [
    "<center>\n",
    "<img src=\"https://www.netquest.com/hubfs/Imported_Blog_Media/data.png\" width=\"60%\"/>\n",
    "<p align=\"center\">Funció sin(2πx)</p>\n",
    "</center>"
   ]
  },
  {
   "cell_type": "markdown",
   "metadata": {
    "slideshow": {
     "slide_type": "subslide"
    }
   },
   "source": [
    "# Underfitting i Overfitting\n",
    "<center>\n",
    "<img src=\"https://www.netquest.com/hubfs/Imported_Blog_Media/4modelos1.png\" width=\"100%\"/>\n",
    "<p align=\"center\">M = Ordre del polinomi</p>\n",
    "</center>"
   ]
  },
  {
   "cell_type": "markdown",
   "metadata": {
    "slideshow": {
     "slide_type": "subslide"
    }
   },
   "source": [
    "# \"La prueba del algodón\": Cross-Validation\n",
    "\n",
    "Per saber si un model generalitza, s'ha de probar amb dades noves (out-of-sample). \n",
    "\n",
    "**Tècnica *Cross-Validation* **: "
   ]
  },
  {
   "cell_type": "markdown",
   "metadata": {
    "slideshow": {
     "slide_type": "fragment"
    }
   },
   "source": [
    "1. Separar el dataset en 2 conjunts (p.ex. 70%/30% de les dades)\n",
    "1. Entrenarem el nostre model amb el primer conjunt (**training set**)\n",
    "1. Aplicarem el model al segon conjunt (**validation set**)\n",
    "1. Mesurarem el *performance* del nostre model amb qualsevol [métrica d'evaluació](http://scikit-learn.org/stable/modules/model_evaluation.html)"
   ]
  },
  {
   "cell_type": "markdown",
   "metadata": {
    "slideshow": {
     "slide_type": "fragment"
    }
   },
   "source": [
    "<center>\n",
    "<img src=\"https://www.netquest.com/hubfs/Imported_Blog_Media/errorvsm.png\" width=\"70%\"/>\n",
    "</center>"
   ]
  },
  {
   "cell_type": "markdown",
   "metadata": {
    "slideshow": {
     "slide_type": "subslide"
    }
   },
   "source": [
    "# Algoritmes d'aprenentatge\n",
    "\n",
    "<center>\n",
    "<img src=\"https://udarajay.com/content/images/2017/10/machinelearningalgorithms.png\" width=\"100%\"/>\n",
    "</center>"
   ]
  },
  {
   "cell_type": "markdown",
   "metadata": {
    "slideshow": {
     "slide_type": "subslide"
    }
   },
   "source": [
    "# Random Forest\n",
    "\n",
    "> When in doubt, use [Random Forest](https://en.wikipedia.org/wiki/Random_forest) — the go-to machine learning algorithm that is considered to be one of the most effective and versatile in solving almost any prediction task\n",
    ">\n",
    "> Rebecca Merrett, TechWorld Australia\n",
    "\n",
    "## <font color=\"FireBrick \">Mega-links sobre introducció als algorismes de ML:</font>\n",
    "\n",
    "- [Visualització/Exemple de arbres de decisió](http://www.r2d3.us/visual-intro-to-machine-learning-part-1/)\n",
    "- [Essentials of Machine Learning algorithms](https://www.analyticsvidhya.com/blog/2017/09/common-machine-learning-algorithms/)"
   ]
  },
  {
   "cell_type": "markdown",
   "metadata": {
    "slideshow": {
     "slide_type": "subslide"
    }
   },
   "source": [
    "# Worflow per abordar un problema de machine learning\n",
    "\n",
    "<center>\n",
    "<img src=\"https://udarajay.com/content/images/2017/10/17-038-ml-concept_0.jpg\" width=\"90%\"/>\n",
    "</center>\n",
    "\n",
    "## <font color=\"FireBrick \">Mega-links sobre aplicació pràctica de ML:</font>\n",
    "\n",
    "\n",
    "- [Advice for applying Machine Learning](http://www.holehouse.org/mlclass/10_Advice_for_applying_machine_learning.html): Apunts del curs Introduction de Machine Learning de Coursera\n",
    "- [Machine Learning Systems Design](http://www.holehouse.org/mlclass/11_Machine_Learning_System_Design.html): Apunts del curs Introduction de Machine Learning de Coursera\n",
    "- [Best Practices for ML Engineering](http://martin.zinkevich.org/rules_of_ml/rules_of_ml.pdf): Escrit per un enginyer de Google (PDF)\n",
    "\n"
   ]
  },
  {
   "cell_type": "markdown",
   "metadata": {
    "collapsed": true,
    "slideshow": {
     "slide_type": "slide"
    }
   },
   "source": [
    "# Per què Python?\n",
    "\n",
    "* Históricament s'ha utilitzat llenguatges i eines com R, Matlab/Octave, Mathematica ..."
   ]
  },
  {
   "cell_type": "markdown",
   "metadata": {
    "slideshow": {
     "slide_type": "fragment"
    }
   },
   "source": [
    "La comunitat Python ha sapigut agafar el bò i millor d'aquestes eines:\n",
    "\n",
    "* Anàlisis numèric Matlab -> **numpy**\n",
    "* R dataframes -> **pandas**\n",
    "* Matlab plotting -> **matplotlib**\n",
    "* Mathematica notebooks -> **jupyter notebooks**\n",
    "* R caret -> **scikit-learn**\n",
    "* (...)"
   ]
  },
  {
   "cell_type": "markdown",
   "metadata": {
    "slideshow": {
     "slide_type": "slide"
    }
   },
   "source": [
    "# [Kaggle.com](www.kaggle.com)\n",
    "\n",
    "Competicions de datascience amb regles senzilles:"
   ]
  },
  {
   "cell_type": "markdown",
   "metadata": {
    "slideshow": {
     "slide_type": "fragment"
    }
   },
   "source": [
    "- Cada competició té 2 datasets públics: **training** (labeled) i **test**\n"
   ]
  },
  {
   "cell_type": "markdown",
   "metadata": {
    "slideshow": {
     "slide_type": "fragment"
    }
   },
   "source": [
    "- Els participants han de pujar un fitxer .CSV amb els camps ID (del test) i TARGET (la seva predicció). Aquest upload se'n diu **submission**"
   ]
  },
  {
   "cell_type": "markdown",
   "metadata": {
    "slideshow": {
     "slide_type": "fragment"
    }
   },
   "source": [
    "- Sobre un percentatge d'aquestes prediccions, s'evaluen l'accuracy mitjançant la [mètrica de la competició](https://www.kaggle.com/wiki/Metrics), i el submission apareix en el **public leaderboard**"
   ]
  },
  {
   "cell_type": "markdown",
   "metadata": {
    "slideshow": {
     "slide_type": "fragment"
    }
   },
   "source": [
    "- Quan acaba el termini de la competició, s'evaluen tots els submissions amb la resta de dades del **test set**, i es crea un **private leaderboard** que determina els guanyadors finals."
   ]
  },
  {
   "cell_type": "markdown",
   "metadata": {
    "slideshow": {
     "slide_type": "subslide"
    }
   },
   "source": [
    "# Kaggle Tips and Tricks\n",
    "\n",
    "- Fòrum de les competicions\n",
    "- [Blog de Kaggle](http://blog.kaggle.com/) amb entrevistes a guanyadors de competicions concloses\n",
    "- **Ensembles** -> Teaming"
   ]
  },
  {
   "cell_type": "markdown",
   "metadata": {
    "slideshow": {
     "slide_type": "slide"
    }
   },
   "source": [
    "# Competició Getting Started: Titanic\n",
    "\n",
    "- El 15 d'Abril de 1912 es va enfonsar el Titanic debut a la col.lisió amb un iceberg.\n",
    "- Van morir 1502 de les 2224 persones que viatjaven a bord (entre passatgers i tripulació)\n",
    "- Una de les raons es que no hi havia els suficients bots salvavides\n",
    "- Tot i el component de sort, hi van haver grups amb més possibilitats de sobreviure que d'altres (dones, nens, passatgers de primera classe...)\n",
    "\n",
    "\n"
   ]
  },
  {
   "cell_type": "markdown",
   "metadata": {
    "slideshow": {
     "slide_type": "fragment"
    }
   },
   "source": [
    "** Problema de classificació binària:** Per cada passatger, hem de determinar si es va salvar o no\n",
    "\n",
    "<center>\n",
    "<br />\n",
    "<img src=\"http://www.pearlanddean.com/sites/default/files/titanic_0.gif\"/>\n",
    "</center>\n"
   ]
  },
  {
   "cell_type": "code",
   "execution_count": 94,
   "metadata": {
    "collapsed": true,
    "slideshow": {
     "slide_type": "skip"
    }
   },
   "outputs": [],
   "source": [
    "# data analysis and wrangling\n",
    "import pandas as pd\n",
    "import numpy as np\n",
    "import random as rnd\n",
    "\n",
    "# visualization\n",
    "import seaborn as sns\n",
    "import matplotlib.pyplot as plt\n",
    "import matplotlib.pylab as pylab\n",
    "%matplotlib inline\n",
    "pylab.rcParams['figure.figsize'] = 16, 12\n",
    "import matplotlib\n",
    "matplotlib.style.use('ggplot')\n",
    "\n",
    "from sklearn.model_selection import cross_val_score"
   ]
  },
  {
   "cell_type": "markdown",
   "metadata": {
    "slideshow": {
     "slide_type": "subslide"
    }
   },
   "source": [
    "# 1/5 - Carregar les dades\n",
    "\n",
    "Info pública sobre el dataset: https://www.kaggle.com/c/titanic/data"
   ]
  },
  {
   "cell_type": "code",
   "execution_count": 95,
   "metadata": {
    "slideshow": {
     "slide_type": "fragment"
    }
   },
   "outputs": [
    {
     "data": {
      "text/html": [
       "\n",
       "        <iframe\n",
       "            width=\"700\"\n",
       "            height=\"350\"\n",
       "            src=\"http://rstudio-pubs-static.s3.amazonaws.com/24969_894d890964fd4308ab537bfde1f784d2.html\"\n",
       "            frameborder=\"0\"\n",
       "            allowfullscreen\n",
       "        ></iframe>\n",
       "        "
      ],
      "text/plain": [
       "<IPython.lib.display.IFrame at 0x1131c0d50>"
      ]
     },
     "execution_count": 95,
     "metadata": {},
     "output_type": "execute_result"
    }
   ],
   "source": [
    "# Descripció de les dades\n",
    "from IPython.display import IFrame\n",
    "IFrame('http://rstudio-pubs-static.s3.amazonaws.com/24969_894d890964fd4308ab537bfde1f784d2.html', width=700, height=350)"
   ]
  },
  {
   "cell_type": "code",
   "execution_count": 96,
   "metadata": {
    "collapsed": true,
    "slideshow": {
     "slide_type": "skip"
    }
   },
   "outputs": [],
   "source": [
    "# Training set\n",
    "df_train = pd.read_csv('data/train.csv')"
   ]
  },
  {
   "cell_type": "code",
   "execution_count": 97,
   "metadata": {
    "slideshow": {
     "slide_type": "subslide"
    }
   },
   "outputs": [
    {
     "data": {
      "text/html": [
       "<div>\n",
       "<style>\n",
       "    .dataframe thead tr:only-child th {\n",
       "        text-align: right;\n",
       "    }\n",
       "\n",
       "    .dataframe thead th {\n",
       "        text-align: left;\n",
       "    }\n",
       "\n",
       "    .dataframe tbody tr th {\n",
       "        vertical-align: top;\n",
       "    }\n",
       "</style>\n",
       "<table border=\"1\" class=\"dataframe\">\n",
       "  <thead>\n",
       "    <tr style=\"text-align: right;\">\n",
       "      <th></th>\n",
       "      <th>PassengerId</th>\n",
       "      <th>Survived</th>\n",
       "      <th>Pclass</th>\n",
       "      <th>Name</th>\n",
       "      <th>Sex</th>\n",
       "      <th>Age</th>\n",
       "      <th>SibSp</th>\n",
       "      <th>Parch</th>\n",
       "      <th>Ticket</th>\n",
       "      <th>Fare</th>\n",
       "      <th>Cabin</th>\n",
       "      <th>Embarked</th>\n",
       "    </tr>\n",
       "  </thead>\n",
       "  <tbody>\n",
       "    <tr>\n",
       "      <th>120</th>\n",
       "      <td>121</td>\n",
       "      <td>0</td>\n",
       "      <td>2</td>\n",
       "      <td>Hickman, Mr. Stanley George</td>\n",
       "      <td>male</td>\n",
       "      <td>21.0</td>\n",
       "      <td>2</td>\n",
       "      <td>0</td>\n",
       "      <td>S.O.C. 14879</td>\n",
       "      <td>73.50</td>\n",
       "      <td>NaN</td>\n",
       "      <td>S</td>\n",
       "    </tr>\n",
       "    <tr>\n",
       "      <th>498</th>\n",
       "      <td>499</td>\n",
       "      <td>0</td>\n",
       "      <td>1</td>\n",
       "      <td>Allison, Mrs. Hudson J C (Bessie Waldo Daniels)</td>\n",
       "      <td>female</td>\n",
       "      <td>25.0</td>\n",
       "      <td>1</td>\n",
       "      <td>2</td>\n",
       "      <td>113781</td>\n",
       "      <td>151.55</td>\n",
       "      <td>C22 C26</td>\n",
       "      <td>S</td>\n",
       "    </tr>\n",
       "    <tr>\n",
       "      <th>887</th>\n",
       "      <td>888</td>\n",
       "      <td>1</td>\n",
       "      <td>1</td>\n",
       "      <td>Graham, Miss. Margaret Edith</td>\n",
       "      <td>female</td>\n",
       "      <td>19.0</td>\n",
       "      <td>0</td>\n",
       "      <td>0</td>\n",
       "      <td>112053</td>\n",
       "      <td>30.00</td>\n",
       "      <td>B42</td>\n",
       "      <td>S</td>\n",
       "    </tr>\n",
       "  </tbody>\n",
       "</table>\n",
       "</div>"
      ],
      "text/plain": [
       "     PassengerId  Survived  Pclass  \\\n",
       "120          121         0       2   \n",
       "498          499         0       1   \n",
       "887          888         1       1   \n",
       "\n",
       "                                                Name     Sex   Age  SibSp  \\\n",
       "120                      Hickman, Mr. Stanley George    male  21.0      2   \n",
       "498  Allison, Mrs. Hudson J C (Bessie Waldo Daniels)  female  25.0      1   \n",
       "887                     Graham, Miss. Margaret Edith  female  19.0      0   \n",
       "\n",
       "     Parch        Ticket    Fare    Cabin Embarked  \n",
       "120      0  S.O.C. 14879   73.50      NaN        S  \n",
       "498      2        113781  151.55  C22 C26        S  \n",
       "887      0        112053   30.00      B42        S  "
      ]
     },
     "execution_count": 97,
     "metadata": {},
     "output_type": "execute_result"
    }
   ],
   "source": [
    "# 3 passatgers a l'atzar\n",
    "df_train.sample(3)"
   ]
  },
  {
   "cell_type": "markdown",
   "metadata": {
    "slideshow": {
     "slide_type": "subslide"
    }
   },
   "source": [
    "# 2/5 - Preparar les dades"
   ]
  },
  {
   "cell_type": "code",
   "execution_count": 98,
   "metadata": {
    "collapsed": true,
    "slideshow": {
     "slide_type": "-"
    }
   },
   "outputs": [],
   "source": [
    "# eliminar columnes innecesàries\n",
    "df_train = df_train.drop([\"PassengerId\", \"Cabin\", \"Ticket\",\"Embarked\",\"Name\",\"Sex\"], axis=1)\n",
    "\n",
    "# emplenar NaN\n",
    "df_train = df_train.fillna(df_train.mean())"
   ]
  },
  {
   "cell_type": "code",
   "execution_count": 99,
   "metadata": {
    "slideshow": {
     "slide_type": "subslide"
    }
   },
   "outputs": [
    {
     "data": {
      "text/html": [
       "<div>\n",
       "<style>\n",
       "    .dataframe thead tr:only-child th {\n",
       "        text-align: right;\n",
       "    }\n",
       "\n",
       "    .dataframe thead th {\n",
       "        text-align: left;\n",
       "    }\n",
       "\n",
       "    .dataframe tbody tr th {\n",
       "        vertical-align: top;\n",
       "    }\n",
       "</style>\n",
       "<table border=\"1\" class=\"dataframe\">\n",
       "  <thead>\n",
       "    <tr style=\"text-align: right;\">\n",
       "      <th></th>\n",
       "      <th>Survived</th>\n",
       "      <th>Pclass</th>\n",
       "      <th>Age</th>\n",
       "      <th>SibSp</th>\n",
       "      <th>Parch</th>\n",
       "      <th>Fare</th>\n",
       "    </tr>\n",
       "  </thead>\n",
       "  <tbody>\n",
       "    <tr>\n",
       "      <th>120</th>\n",
       "      <td>0</td>\n",
       "      <td>2</td>\n",
       "      <td>21.000000</td>\n",
       "      <td>2</td>\n",
       "      <td>0</td>\n",
       "      <td>73.5000</td>\n",
       "    </tr>\n",
       "    <tr>\n",
       "      <th>495</th>\n",
       "      <td>0</td>\n",
       "      <td>3</td>\n",
       "      <td>29.699118</td>\n",
       "      <td>0</td>\n",
       "      <td>0</td>\n",
       "      <td>14.4583</td>\n",
       "    </tr>\n",
       "    <tr>\n",
       "      <th>457</th>\n",
       "      <td>1</td>\n",
       "      <td>1</td>\n",
       "      <td>29.699118</td>\n",
       "      <td>1</td>\n",
       "      <td>0</td>\n",
       "      <td>51.8625</td>\n",
       "    </tr>\n",
       "  </tbody>\n",
       "</table>\n",
       "</div>"
      ],
      "text/plain": [
       "     Survived  Pclass        Age  SibSp  Parch     Fare\n",
       "120         0       2  21.000000      2      0  73.5000\n",
       "495         0       3  29.699118      0      0  14.4583\n",
       "457         1       1  29.699118      1      0  51.8625"
      ]
     },
     "execution_count": 99,
     "metadata": {},
     "output_type": "execute_result"
    }
   ],
   "source": [
    "df_train.sample(3)"
   ]
  },
  {
   "cell_type": "markdown",
   "metadata": {
    "slideshow": {
     "slide_type": "subslide"
    }
   },
   "source": [
    "# 3/5 - Feature engineering\n",
    "\n",
    "Ho guardem per més tard ;)"
   ]
  },
  {
   "cell_type": "markdown",
   "metadata": {
    "slideshow": {
     "slide_type": "subslide"
    }
   },
   "source": [
    "# 4/5 Creació i validació del model "
   ]
  },
  {
   "cell_type": "code",
   "execution_count": 100,
   "metadata": {
    "slideshow": {
     "slide_type": "-"
    }
   },
   "outputs": [
    {
     "name": "stdout",
     "output_type": "stream",
     "text": [
      "Linear Regression Accuracy: 0.14476 (+/- 0.16068)\n"
     ]
    }
   ],
   "source": [
    "# Benchmark Linear Regression\n",
    "from sklearn.linear_model import LinearRegression\n",
    "\n",
    "clf_LR = LinearRegression()\n",
    "scores_LR = cross_val_score(clf_LR, df_train.drop(\"Survived\", axis=1), df_train[\"Survived\"], cv=4)\n",
    "\n",
    "print(\"Linear Regression Accuracy: %0.5f (+/- %0.5f)\" % (scores_LR.mean(), scores_LR.std() * 2))"
   ]
  },
  {
   "cell_type": "code",
   "execution_count": 101,
   "metadata": {
    "slideshow": {
     "slide_type": "subslide"
    }
   },
   "outputs": [
    {
     "name": "stdout",
     "output_type": "stream",
     "text": [
      "Random Forest Accuracy: 0.67679 (+/- 0.02773)\n"
     ]
    }
   ],
   "source": [
    "# Benchmark Random Forest\n",
    "from sklearn.ensemble import RandomForestClassifier\n",
    "\n",
    "clf_RF = RandomForestClassifier(n_estimators=100)\n",
    "scores_RF = cross_val_score(clf_RF, df_train.drop(\"Survived\", axis=1), df_train[\"Survived\"], cv=4)\n",
    "\n",
    "print(\"Random Forest Accuracy: %0.5f (+/- %0.5f)\" % (scores_RF.mean(), scores_RF.std() * 2))"
   ]
  },
  {
   "cell_type": "code",
   "execution_count": 102,
   "metadata": {
    "collapsed": true,
    "slideshow": {
     "slide_type": "fragment"
    }
   },
   "outputs": [],
   "source": [
    "# Entrenem el model amb totes les dades:\n",
    "clf_RF.fit(df_train.drop(\"Survived\", axis=1), df_train[\"Survived\"]);"
   ]
  },
  {
   "cell_type": "markdown",
   "metadata": {
    "slideshow": {
     "slide_type": "subslide"
    }
   },
   "source": [
    "# 5/5 Submission"
   ]
  },
  {
   "cell_type": "code",
   "execution_count": 103,
   "metadata": {
    "collapsed": true,
    "slideshow": {
     "slide_type": "-"
    }
   },
   "outputs": [],
   "source": [
    "# LLegim el test dataset de disc\n",
    "df_test = pd.read_csv('data/test.csv')\n",
    "\n",
    "# eliminar columnes innecesàries\n",
    "df_test = df_test.drop([\"PassengerId\", \"Cabin\", \"Ticket\",\"Embarked\",\"Name\",\"Sex\"], axis=1)\n",
    "\n",
    "# emplenar NaN\n",
    "df_test = df_test.fillna(df_test.mean())"
   ]
  },
  {
   "cell_type": "code",
   "execution_count": 104,
   "metadata": {
    "slideshow": {
     "slide_type": "subslide"
    }
   },
   "outputs": [
    {
     "data": {
      "text/html": [
       "<div>\n",
       "<style>\n",
       "    .dataframe thead tr:only-child th {\n",
       "        text-align: right;\n",
       "    }\n",
       "\n",
       "    .dataframe thead th {\n",
       "        text-align: left;\n",
       "    }\n",
       "\n",
       "    .dataframe tbody tr th {\n",
       "        vertical-align: top;\n",
       "    }\n",
       "</style>\n",
       "<table border=\"1\" class=\"dataframe\">\n",
       "  <thead>\n",
       "    <tr style=\"text-align: right;\">\n",
       "      <th></th>\n",
       "      <th>PassengerId</th>\n",
       "      <th>Survived</th>\n",
       "    </tr>\n",
       "  </thead>\n",
       "  <tbody>\n",
       "    <tr>\n",
       "      <th>184</th>\n",
       "      <td>1076</td>\n",
       "      <td>1</td>\n",
       "    </tr>\n",
       "    <tr>\n",
       "      <th>90</th>\n",
       "      <td>982</td>\n",
       "      <td>0</td>\n",
       "    </tr>\n",
       "    <tr>\n",
       "      <th>149</th>\n",
       "      <td>1041</td>\n",
       "      <td>1</td>\n",
       "    </tr>\n",
       "  </tbody>\n",
       "</table>\n",
       "</div>"
      ],
      "text/plain": [
       "     PassengerId  Survived\n",
       "184         1076         1\n",
       "90           982         0\n",
       "149         1041         1"
      ]
     },
     "execution_count": 104,
     "metadata": {},
     "output_type": "execute_result"
    }
   ],
   "source": [
    "# Apliquem el model Random Forest que hem entrenat prèviament\n",
    "output = clf_RF.predict(df_test)\n",
    "\n",
    "df_output = pd.DataFrame()\n",
    "df_output['PassengerId'] = pd.read_csv('data/test.csv')['PassengerId']\n",
    "df_output['Survived'] = output\n",
    "\n",
    "## Aquest serà el fitxer CSV del submission:\n",
    "#df_output[['PassengerId','Survived']].to_csv('data/submission.csv',index=False)\n",
    "\n",
    "df_output[['PassengerId','Survived']].sample(3)"
   ]
  },
  {
   "cell_type": "markdown",
   "metadata": {
    "slideshow": {
     "slide_type": "subslide"
    }
   },
   "source": [
    "# Feature Engineering: La mare dels ous\n",
    "\n",
    "> Procés de transformar les dades \"crues\" (*raw data*) en atributs distintius (*features*) fent servir coneixement del domini (experiència), per tal de representar millor el problema de fons i amb l'objectiu de millorar l'*accuracy* de les prediccions en dades noves (*out of sample*)"
   ]
  },
  {
   "cell_type": "markdown",
   "metadata": {
    "slideshow": {
     "slide_type": "fragment"
    }
   },
   "source": [
    "**Exemple**: *\"Les dones i els nens primer\"*"
   ]
  },
  {
   "cell_type": "code",
   "execution_count": 105,
   "metadata": {
    "collapsed": true,
    "slideshow": {
     "slide_type": "skip"
    }
   },
   "outputs": [],
   "source": [
    "df_train = pd.read_csv('data/train.csv')"
   ]
  },
  {
   "cell_type": "code",
   "execution_count": 106,
   "metadata": {
    "slideshow": {
     "slide_type": "subslide"
    }
   },
   "outputs": [
    {
     "data": {
      "image/png": "[encoded data removed]",
      "text/plain": [
       "<matplotlib.figure.Figure at 0x119266710>"
      ]
     },
     "metadata": {},
     "output_type": "display_data"
    }
   ],
   "source": [
    "# Percentatge homes/dones que es van salvar:\n",
    "sns.factorplot('Sex', 'Survived', data = df_train, ci=None, kind = 'bar', size=6, aspect=2);"
   ]
  },
  {
   "cell_type": "code",
   "execution_count": 107,
   "metadata": {
    "slideshow": {
     "slide_type": "subslide"
    }
   },
   "outputs": [
    {
     "data": {
      "image/png": "[encoded data removed]",
      "text/plain": [
       "<matplotlib.figure.Figure at 0x112b76590>"
      ]
     },
     "metadata": {},
     "output_type": "display_data"
    }
   ],
   "source": [
    "# Persones salvades segons edat\n",
    "sns.set_style(\"whitegrid\")\n",
    "sns.factorplot('Age',  'Survived',  data = df_train, hue_order = [1,0], orient=\"h\", kind=\"violin\", size=6, aspect=2);"
   ]
  },
  {
   "cell_type": "code",
   "execution_count": 108,
   "metadata": {
    "collapsed": true,
    "slideshow": {
     "slide_type": "skip"
    }
   },
   "outputs": [],
   "source": [
    "# eliminar columnes innecesàries\n",
    "df_train = df_train.drop([\"PassengerId\", \"Cabin\", \"Ticket\",\"Embarked\",\"Name\"], axis=1)\n",
    "\n",
    "# emplenar NaN\n",
    "df_train = df_train.fillna(df_train.mean())"
   ]
  },
  {
   "cell_type": "code",
   "execution_count": 109,
   "metadata": {
    "collapsed": true,
    "slideshow": {
     "slide_type": "subslide"
    }
   },
   "outputs": [],
   "source": [
    "# Creem un nou feature anomenat \"AgeCategory\"\n",
    "df_train[\"AgeCategory\"] = \"Adult\"\n",
    "\n",
    "df_train.loc[df_train[\"Age\"]<16, \"AgeCategory\"]=\"Child\"\n",
    "df_train.loc[df_train[\"Age\"]>=60, \"AgeCategory\"]=\"Old\""
   ]
  },
  {
   "cell_type": "code",
   "execution_count": 110,
   "metadata": {
    "slideshow": {
     "slide_type": "fragment"
    }
   },
   "outputs": [
    {
     "data": {
      "text/html": [
       "<div>\n",
       "<style>\n",
       "    .dataframe thead tr:only-child th {\n",
       "        text-align: right;\n",
       "    }\n",
       "\n",
       "    .dataframe thead th {\n",
       "        text-align: left;\n",
       "    }\n",
       "\n",
       "    .dataframe tbody tr th {\n",
       "        vertical-align: top;\n",
       "    }\n",
       "</style>\n",
       "<table border=\"1\" class=\"dataframe\">\n",
       "  <thead>\n",
       "    <tr style=\"text-align: right;\">\n",
       "      <th></th>\n",
       "      <th>Survived</th>\n",
       "      <th>Pclass</th>\n",
       "      <th>Sex</th>\n",
       "      <th>Age</th>\n",
       "      <th>SibSp</th>\n",
       "      <th>Parch</th>\n",
       "      <th>Fare</th>\n",
       "      <th>AgeCategory</th>\n",
       "    </tr>\n",
       "  </thead>\n",
       "  <tbody>\n",
       "    <tr>\n",
       "      <th>774</th>\n",
       "      <td>1</td>\n",
       "      <td>2</td>\n",
       "      <td>female</td>\n",
       "      <td>54.000000</td>\n",
       "      <td>1</td>\n",
       "      <td>3</td>\n",
       "      <td>23.0000</td>\n",
       "      <td>Adult</td>\n",
       "    </tr>\n",
       "    <tr>\n",
       "      <th>750</th>\n",
       "      <td>1</td>\n",
       "      <td>2</td>\n",
       "      <td>female</td>\n",
       "      <td>4.000000</td>\n",
       "      <td>1</td>\n",
       "      <td>1</td>\n",
       "      <td>23.0000</td>\n",
       "      <td>Child</td>\n",
       "    </tr>\n",
       "    <tr>\n",
       "      <th>5</th>\n",
       "      <td>0</td>\n",
       "      <td>3</td>\n",
       "      <td>male</td>\n",
       "      <td>29.699118</td>\n",
       "      <td>0</td>\n",
       "      <td>0</td>\n",
       "      <td>8.4583</td>\n",
       "      <td>Adult</td>\n",
       "    </tr>\n",
       "  </tbody>\n",
       "</table>\n",
       "</div>"
      ],
      "text/plain": [
       "     Survived  Pclass     Sex        Age  SibSp  Parch     Fare AgeCategory\n",
       "774         1       2  female  54.000000      1      3  23.0000       Adult\n",
       "750         1       2  female   4.000000      1      1  23.0000       Child\n",
       "5           0       3    male  29.699118      0      0   8.4583       Adult"
      ]
     },
     "execution_count": 110,
     "metadata": {},
     "output_type": "execute_result"
    }
   ],
   "source": [
    "df_train.sample(3)"
   ]
  },
  {
   "cell_type": "code",
   "execution_count": 111,
   "metadata": {
    "collapsed": true,
    "slideshow": {
     "slide_type": "subslide"
    }
   },
   "outputs": [],
   "source": [
    "# Transformem les features categòriques (Sex i AgeCategory) en booleanes!\n",
    "df_train = pd.get_dummies(df_train, columns=[\"Sex\", \"AgeCategory\"]).drop([\"Age\"], axis=1)"
   ]
  },
  {
   "cell_type": "code",
   "execution_count": 112,
   "metadata": {
    "slideshow": {
     "slide_type": "fragment"
    }
   },
   "outputs": [
    {
     "data": {
      "text/html": [
       "<div>\n",
       "<style>\n",
       "    .dataframe thead tr:only-child th {\n",
       "        text-align: right;\n",
       "    }\n",
       "\n",
       "    .dataframe thead th {\n",
       "        text-align: left;\n",
       "    }\n",
       "\n",
       "    .dataframe tbody tr th {\n",
       "        vertical-align: top;\n",
       "    }\n",
       "</style>\n",
       "<table border=\"1\" class=\"dataframe\">\n",
       "  <thead>\n",
       "    <tr style=\"text-align: right;\">\n",
       "      <th></th>\n",
       "      <th>Survived</th>\n",
       "      <th>Pclass</th>\n",
       "      <th>SibSp</th>\n",
       "      <th>Parch</th>\n",
       "      <th>Fare</th>\n",
       "      <th>Sex_female</th>\n",
       "      <th>Sex_male</th>\n",
       "      <th>AgeCategory_Adult</th>\n",
       "      <th>AgeCategory_Child</th>\n",
       "      <th>AgeCategory_Old</th>\n",
       "    </tr>\n",
       "  </thead>\n",
       "  <tbody>\n",
       "    <tr>\n",
       "      <th>8</th>\n",
       "      <td>1</td>\n",
       "      <td>3</td>\n",
       "      <td>0</td>\n",
       "      <td>2</td>\n",
       "      <td>11.1333</td>\n",
       "      <td>1</td>\n",
       "      <td>0</td>\n",
       "      <td>1</td>\n",
       "      <td>0</td>\n",
       "      <td>0</td>\n",
       "    </tr>\n",
       "    <tr>\n",
       "      <th>245</th>\n",
       "      <td>0</td>\n",
       "      <td>1</td>\n",
       "      <td>2</td>\n",
       "      <td>0</td>\n",
       "      <td>90.0000</td>\n",
       "      <td>0</td>\n",
       "      <td>1</td>\n",
       "      <td>1</td>\n",
       "      <td>0</td>\n",
       "      <td>0</td>\n",
       "    </tr>\n",
       "    <tr>\n",
       "      <th>30</th>\n",
       "      <td>0</td>\n",
       "      <td>1</td>\n",
       "      <td>0</td>\n",
       "      <td>0</td>\n",
       "      <td>27.7208</td>\n",
       "      <td>0</td>\n",
       "      <td>1</td>\n",
       "      <td>1</td>\n",
       "      <td>0</td>\n",
       "      <td>0</td>\n",
       "    </tr>\n",
       "  </tbody>\n",
       "</table>\n",
       "</div>"
      ],
      "text/plain": [
       "     Survived  Pclass  SibSp  Parch     Fare  Sex_female  Sex_male  \\\n",
       "8           1       3      0      2  11.1333           1         0   \n",
       "245         0       1      2      0  90.0000           0         1   \n",
       "30          0       1      0      0  27.7208           0         1   \n",
       "\n",
       "     AgeCategory_Adult  AgeCategory_Child  AgeCategory_Old  \n",
       "8                    1                  0                0  \n",
       "245                  1                  0                0  \n",
       "30                   1                  0                0  "
      ]
     },
     "execution_count": 112,
     "metadata": {},
     "output_type": "execute_result"
    }
   ],
   "source": [
    "df_train.sample(3)"
   ]
  },
  {
   "cell_type": "markdown",
   "metadata": {
    "slideshow": {
     "slide_type": "subslide"
    }
   },
   "source": [
    "## Com millora l'algorisme ML amb aquestes noves columnes?"
   ]
  },
  {
   "cell_type": "code",
   "execution_count": 113,
   "metadata": {
    "slideshow": {
     "slide_type": "fragment"
    }
   },
   "outputs": [
    {
     "name": "stdout",
     "output_type": "stream",
     "text": [
      "[Abans] Random Forest Accuracy: 0.68244 (+/- 0.04123)\n",
      "[ ARA ] Random Forest Accuracy: 0.81038 (+/- 0.04829)\n"
     ]
    }
   ],
   "source": [
    "clf_RF = RandomForestClassifier(n_estimators=100)\n",
    "scores_RF = cross_val_score(clf_RF, df_train.drop(\"Survived\", axis=1), df_train[\"Survived\"], cv=4)\n",
    "\n",
    "print (\"[Abans] Random Forest Accuracy: 0.68244 (+/- 0.04123)\")\n",
    "print (\"[ ARA ] Random Forest Accuracy: %0.5f (+/- %0.5f)\" % (scores_RF.mean(), scores_RF.std() * 2))"
   ]
  },
  {
   "cell_type": "markdown",
   "metadata": {
    "slideshow": {
     "slide_type": "subslide"
    }
   },
   "source": [
    "# Som capaços de millorar aquest 81% de accuracy entre tots?\n",
    "\n"
   ]
  },
  {
   "cell_type": "code",
   "execution_count": 114,
   "metadata": {},
   "outputs": [
    {
     "data": {
      "text/html": [
       "\n",
       "        <iframe\n",
       "            width=\"700\"\n",
       "            height=\"350\"\n",
       "            src=\"http://rstudio-pubs-static.s3.amazonaws.com/24969_894d890964fd4308ab537bfde1f784d2.html\"\n",
       "            frameborder=\"0\"\n",
       "            allowfullscreen\n",
       "        ></iframe>\n",
       "        "
      ],
      "text/plain": [
       "<IPython.lib.display.IFrame at 0x113df07d0>"
      ]
     },
     "execution_count": 114,
     "metadata": {},
     "output_type": "execute_result"
    }
   ],
   "source": [
    "from IPython.display import IFrame\n",
    "IFrame('http://rstudio-pubs-static.s3.amazonaws.com/24969_894d890964fd4308ab537bfde1f784d2.html', width=700, height=350)"
   ]
  },
  {
   "cell_type": "code",
   "execution_count": 115,
   "metadata": {
    "slideshow": {
     "slide_type": "subslide"
    }
   },
   "outputs": [
    {
     "data": {
      "text/html": [
       "<div>\n",
       "<style>\n",
       "    .dataframe thead tr:only-child th {\n",
       "        text-align: right;\n",
       "    }\n",
       "\n",
       "    .dataframe thead th {\n",
       "        text-align: left;\n",
       "    }\n",
       "\n",
       "    .dataframe tbody tr th {\n",
       "        vertical-align: top;\n",
       "    }\n",
       "</style>\n",
       "<table border=\"1\" class=\"dataframe\">\n",
       "  <thead>\n",
       "    <tr style=\"text-align: right;\">\n",
       "      <th></th>\n",
       "      <th>PassengerId</th>\n",
       "      <th>Survived</th>\n",
       "      <th>Pclass</th>\n",
       "      <th>Name</th>\n",
       "      <th>Sex</th>\n",
       "      <th>Age</th>\n",
       "      <th>SibSp</th>\n",
       "      <th>Parch</th>\n",
       "      <th>Ticket</th>\n",
       "      <th>Fare</th>\n",
       "      <th>Cabin</th>\n",
       "      <th>Embarked</th>\n",
       "    </tr>\n",
       "  </thead>\n",
       "  <tbody>\n",
       "    <tr>\n",
       "      <th>29</th>\n",
       "      <td>30</td>\n",
       "      <td>0</td>\n",
       "      <td>3</td>\n",
       "      <td>Todoroff, Mr. Lalio</td>\n",
       "      <td>male</td>\n",
       "      <td>NaN</td>\n",
       "      <td>0</td>\n",
       "      <td>0</td>\n",
       "      <td>349216</td>\n",
       "      <td>7.8958</td>\n",
       "      <td>NaN</td>\n",
       "      <td>S</td>\n",
       "    </tr>\n",
       "    <tr>\n",
       "      <th>546</th>\n",
       "      <td>547</td>\n",
       "      <td>1</td>\n",
       "      <td>2</td>\n",
       "      <td>Beane, Mrs. Edward (Ethel Clarke)</td>\n",
       "      <td>female</td>\n",
       "      <td>19.0</td>\n",
       "      <td>1</td>\n",
       "      <td>0</td>\n",
       "      <td>2908</td>\n",
       "      <td>26.0000</td>\n",
       "      <td>NaN</td>\n",
       "      <td>S</td>\n",
       "    </tr>\n",
       "    <tr>\n",
       "      <th>492</th>\n",
       "      <td>493</td>\n",
       "      <td>0</td>\n",
       "      <td>1</td>\n",
       "      <td>Molson, Mr. Harry Markland</td>\n",
       "      <td>male</td>\n",
       "      <td>55.0</td>\n",
       "      <td>0</td>\n",
       "      <td>0</td>\n",
       "      <td>113787</td>\n",
       "      <td>30.5000</td>\n",
       "      <td>C30</td>\n",
       "      <td>S</td>\n",
       "    </tr>\n",
       "    <tr>\n",
       "      <th>828</th>\n",
       "      <td>829</td>\n",
       "      <td>1</td>\n",
       "      <td>3</td>\n",
       "      <td>McCormack, Mr. Thomas Joseph</td>\n",
       "      <td>male</td>\n",
       "      <td>NaN</td>\n",
       "      <td>0</td>\n",
       "      <td>0</td>\n",
       "      <td>367228</td>\n",
       "      <td>7.7500</td>\n",
       "      <td>NaN</td>\n",
       "      <td>Q</td>\n",
       "    </tr>\n",
       "    <tr>\n",
       "      <th>620</th>\n",
       "      <td>621</td>\n",
       "      <td>0</td>\n",
       "      <td>3</td>\n",
       "      <td>Yasbeck, Mr. Antoni</td>\n",
       "      <td>male</td>\n",
       "      <td>27.0</td>\n",
       "      <td>1</td>\n",
       "      <td>0</td>\n",
       "      <td>2659</td>\n",
       "      <td>14.4542</td>\n",
       "      <td>NaN</td>\n",
       "      <td>C</td>\n",
       "    </tr>\n",
       "  </tbody>\n",
       "</table>\n",
       "</div>"
      ],
      "text/plain": [
       "     PassengerId  Survived  Pclass                               Name     Sex  \\\n",
       "29            30         0       3                Todoroff, Mr. Lalio    male   \n",
       "546          547         1       2  Beane, Mrs. Edward (Ethel Clarke)  female   \n",
       "492          493         0       1         Molson, Mr. Harry Markland    male   \n",
       "828          829         1       3       McCormack, Mr. Thomas Joseph    male   \n",
       "620          621         0       3                Yasbeck, Mr. Antoni    male   \n",
       "\n",
       "      Age  SibSp  Parch  Ticket     Fare Cabin Embarked  \n",
       "29    NaN      0      0  349216   7.8958   NaN        S  \n",
       "546  19.0      1      0    2908  26.0000   NaN        S  \n",
       "492  55.0      0      0  113787  30.5000   C30        S  \n",
       "828   NaN      0      0  367228   7.7500   NaN        Q  \n",
       "620  27.0      1      0    2659  14.4542   NaN        C  "
      ]
     },
     "execution_count": 115,
     "metadata": {},
     "output_type": "execute_result"
    }
   ],
   "source": [
    "pd.read_csv('data/train.csv').sample(5)"
   ]
  },
  {
   "cell_type": "code",
   "execution_count": 116,
   "metadata": {
    "slideshow": {
     "slide_type": "skip"
    }
   },
   "outputs": [
    {
     "ename": "IndentationError",
     "evalue": "unexpected indent (<ipython-input-116-b852c4f64190>, line 3)",
     "output_type": "error",
     "traceback": [
      "\u001b[0;36m  File \u001b[0;32m\"<ipython-input-116-b852c4f64190>\"\u001b[0;36m, line \u001b[0;32m3\u001b[0m\n\u001b[0;31m    dictTitles = {\u001b[0m\n\u001b[0m    ^\u001b[0m\n\u001b[0;31mIndentationError\u001b[0m\u001b[0;31m:\u001b[0m unexpected indent\n"
     ]
    }
   ],
   "source": [
    "# Idees Feature Engineering 1/3 : Categoritzar persones segons el títol de la columna Name (Mrs, Miss, Master, Officer, Royalty)\n",
    "\n",
    " dictTitles = {\n",
    "     \"Capt\": \"Officer\",\n",
    "     \"Col\": \"Officer\",\n",
    "     \"Major\": \"Officer\",\n",
    "     \"Jonkheer\": \"Royalty\",\n",
    "     \"Don\": \"Royalty\",\n",
    "     \"Sir\": \"Royalty\",\n",
    "     \"Dr\": \"Officer\",\n",
    "     \"Rev\": \"Officer\",\n",
    "     \"the Countess\": \"Royalty\",\n",
    "     \"Mme\": \"Mrs\",\n",
    "     \"Mlle\": \"Miss\",\n",
    "     \"Ms\": \"Mrs\",\n",
    "     \"Mr\": \"Mr\",\n",
    "     \"Mrs\": \"Mrs\",\n",
    "     \"Miss\": \"Miss\",\n",
    "     \"Master\": \"Master\",\n",
    "     \"Lady\": \"Royalty\"\n",
    "}\n",
    "\n",
    "X['Embarked'] = X['Embarked'].fillna('S')\n",
    "X['title'] = X['Name'].apply(lambda x: x.split(',')[1].split('.')[0].strip())\n",
    "X['title'] = X['title'].map(dictTitles)\n",
    "X = X.drop(['Name'], axis=1)\n",
    "\n",
    "X = pd.get_dummies(X, columns=['Embarked', 'title'])"
   ]
  },
  {
   "cell_type": "code",
   "execution_count": null,
   "metadata": {
    "collapsed": true,
    "slideshow": {
     "slide_type": "skip"
    }
   },
   "outputs": [],
   "source": [
    "# Idees Feature Engineering 2/3 : Crear feature amb el nombre de familiars que viatgen\n",
    "X['family_size']= (X[\"SibSp\"]+X[\"Parch\"])+1"
   ]
  },
  {
   "cell_type": "code",
   "execution_count": null,
   "metadata": {
    "collapsed": true,
    "slideshow": {
     "slide_type": "skip"
    }
   },
   "outputs": [],
   "source": [
    "# Idees Feature Engineering 3/3 : Contar el número de persones amb el mateix \"Ticket\"\n",
    "\n",
    "pd.read_csv('data/train.csv').groupby(\"Ticket\")[\"Survived\"].count().sort_values()"
   ]
  },
  {
   "cell_type": "code",
   "execution_count": null,
   "metadata": {
    "slideshow": {
     "slide_type": "skip"
    }
   },
   "outputs": [],
   "source": [
    "# CROSS-VALIDATION SAMPLE\n",
    "\n",
    "df_train = pd.read_csv('data/train.csv')\n",
    "\n",
    "# eliminar columnes innecesàries\n",
    "df_train = df_train.drop([\"PassengerId\", \"Cabin\", \"Ticket\",\"Embarked\",\"Name\"], axis=1)\n",
    "\n",
    "# emplenar NaN\n",
    "df_train = df_train.fillna(df_train.mean())\n",
    "\n",
    "# Creem un nou feature anomenat \"AgeCategory\"\n",
    "df_train[\"AgeCategory\"] = \"Adult\"\n",
    "\n",
    "df_train.loc[df_train[\"Age\"]<16, \"AgeCategory\"]=\"Child\"\n",
    "df_train.loc[df_train[\"Age\"]>=60, \"AgeCategory\"]=\"Old\"\n",
    "\n",
    "# Transformem les features categòriques (Sex i AgeCategory) en booleanes!\n",
    "df_train = pd.get_dummies(df_train, columns=[\"Sex\", \"AgeCategory\"]).drop([\"Age\"], axis=1)\n",
    "\n",
    "#########################################################\n",
    "## PROBAR NOUS FEATURES AQUÍ!\n",
    "#########################################################\n",
    "\n",
    "\n",
    "#########################################################\n",
    "#########################################################\n",
    "\n",
    "\n",
    "clf_RF = RandomForestClassifier(n_estimators=100)\n",
    "scores_RF = cross_val_score(clf_RF, df_train.drop(\"Survived\", axis=1), df_train[\"Survived\"], cv=4)\n",
    "\n",
    "print (\"Random Forest Accuracy: %0.5f (+/- %0.5f)\" % (scores_RF.mean(), scores_RF.std() * 2))"
   ]
  },
  {
   "cell_type": "markdown",
   "metadata": {
    "collapsed": true,
    "slideshow": {
     "slide_type": "slide"
    }
   },
   "source": [
    "## Gràcies per escoltar! Preguntes?\n",
    "\n",
    "\n",
    "- https://github.com/victormartingarcia\n",
    "- <a href=\"mailto:victor.martin.garcia@gmail.com\">victor.martin.garcia@gmail.com</a>\n",
    "- [@victormartin](https://twitter.com/victormartin)\n",
    "\n",
    "\n",
    "Slides and data: Source: https://github.com/victormartingarcia/2017-pyGrn-introdatascience\n",
    "\n",
    "Slides presented with 'live reveal' https://github.com/damianavila/RISE\n"
   ]
  }
 ],
 "metadata": {
  "celltoolbar": "Slideshow",
  "kernelspec": {
   "display_name": "Python2 (systemia-research)",
   "language": "python",
   "name": "systemia-research"
  },
  "language_info": {
   "codemirror_mode": {
    "name": "ipython",
    "version": 2
   },
   "file_extension": ".py",
   "mimetype": "text/x-python",
   "name": "python",
   "nbconvert_exporter": "python",
   "pygments_lexer": "ipython2",
   "version": "2.7.13"
  }
 },
 "nbformat": 4,
 "nbformat_minor": 1
}
